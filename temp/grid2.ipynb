{
 "cells": [
  {
   "cell_type": "code",
   "execution_count": 2,
   "outputs": [],
   "source": [
    "# pip install python-binance\n",
    "import pandas as pd\n",
    "from binance.client import Client\n",
    "client = Client()"
   ],
   "metadata": {
    "collapsed": false,
    "ExecuteTime": {
     "end_time": "2023-09-16T10:54:57.086358400Z",
     "start_time": "2023-09-16T10:54:48.663755200Z"
    }
   }
  },
  {
   "cell_type": "code",
   "execution_count": 5,
   "outputs": [],
   "source": [
    "def getData(symbol, start):\n",
    "    frame = pd.DataFrame(client.get_historical_klines(symbol, '1m', start))\n",
    "    frame = frame.iloc[:,:6]\n",
    "    frame.columns = ['Time','Open','High','Low','Close','Volume']\n",
    "    frame.set_index('Time', inplace=True)\n",
    "    frame.index = pd.to_datetime(frame.index,unit='ms')\n",
    "    frame = frame.astype(float)\n",
    "    return frame"
   ],
   "metadata": {
    "collapsed": false,
    "ExecuteTime": {
     "end_time": "2023-09-16T10:57:53.073210100Z",
     "start_time": "2023-09-16T10:57:53.058683600Z"
    }
   }
  },
  {
   "cell_type": "code",
   "execution_count": 6,
   "outputs": [],
   "source": [
    "df = getData(\"BTCUSDT\", \"2023-01-01\")"
   ],
   "metadata": {
    "collapsed": false,
    "ExecuteTime": {
     "end_time": "2023-09-16T11:02:18.244666600Z",
     "start_time": "2023-09-16T10:57:56.747551Z"
    }
   }
  },
  {
   "cell_type": "code",
   "execution_count": 7,
   "outputs": [
    {
     "data": {
      "text/plain": "                         Open      High       Low     Close     Volume\nTime                                                                  \n2023-01-01 00:00:00  16541.77  16544.76  16538.45  16543.67   83.08143\n2023-01-01 00:01:00  16543.04  16544.41  16538.48  16539.31   80.45300\n2023-01-01 00:02:00  16539.31  16541.17  16534.52  16536.43   62.90197\n2023-01-01 00:03:00  16536.43  16537.28  16531.00  16533.65  115.71894\n2023-01-01 00:04:00  16534.12  16536.08  16527.51  16535.38  144.45369\n...                       ...       ...       ...       ...        ...\n2023-09-16 10:58:00  26531.43  26535.14  26531.43  26535.13    8.78796\n2023-09-16 10:59:00  26535.13  26545.19  26535.13  26545.18    8.04274\n2023-09-16 11:00:00  26545.18  26545.19  26545.18  26545.19    6.24110\n2023-09-16 11:01:00  26545.18  26545.19  26536.54  26536.55   11.08515\n2023-09-16 11:02:00  26536.55  26536.55  26536.54  26536.55    2.23048\n\n[372103 rows x 5 columns]",
      "text/html": "<div>\n<style scoped>\n    .dataframe tbody tr th:only-of-type {\n        vertical-align: middle;\n    }\n\n    .dataframe tbody tr th {\n        vertical-align: top;\n    }\n\n    .dataframe thead th {\n        text-align: right;\n    }\n</style>\n<table border=\"1\" class=\"dataframe\">\n  <thead>\n    <tr style=\"text-align: right;\">\n      <th></th>\n      <th>Open</th>\n      <th>High</th>\n      <th>Low</th>\n      <th>Close</th>\n      <th>Volume</th>\n    </tr>\n    <tr>\n      <th>Time</th>\n      <th></th>\n      <th></th>\n      <th></th>\n      <th></th>\n      <th></th>\n    </tr>\n  </thead>\n  <tbody>\n    <tr>\n      <th>2023-01-01 00:00:00</th>\n      <td>16541.77</td>\n      <td>16544.76</td>\n      <td>16538.45</td>\n      <td>16543.67</td>\n      <td>83.08143</td>\n    </tr>\n    <tr>\n      <th>2023-01-01 00:01:00</th>\n      <td>16543.04</td>\n      <td>16544.41</td>\n      <td>16538.48</td>\n      <td>16539.31</td>\n      <td>80.45300</td>\n    </tr>\n    <tr>\n      <th>2023-01-01 00:02:00</th>\n      <td>16539.31</td>\n      <td>16541.17</td>\n      <td>16534.52</td>\n      <td>16536.43</td>\n      <td>62.90197</td>\n    </tr>\n    <tr>\n      <th>2023-01-01 00:03:00</th>\n      <td>16536.43</td>\n      <td>16537.28</td>\n      <td>16531.00</td>\n      <td>16533.65</td>\n      <td>115.71894</td>\n    </tr>\n    <tr>\n      <th>2023-01-01 00:04:00</th>\n      <td>16534.12</td>\n      <td>16536.08</td>\n      <td>16527.51</td>\n      <td>16535.38</td>\n      <td>144.45369</td>\n    </tr>\n    <tr>\n      <th>...</th>\n      <td>...</td>\n      <td>...</td>\n      <td>...</td>\n      <td>...</td>\n      <td>...</td>\n    </tr>\n    <tr>\n      <th>2023-09-16 10:58:00</th>\n      <td>26531.43</td>\n      <td>26535.14</td>\n      <td>26531.43</td>\n      <td>26535.13</td>\n      <td>8.78796</td>\n    </tr>\n    <tr>\n      <th>2023-09-16 10:59:00</th>\n      <td>26535.13</td>\n      <td>26545.19</td>\n      <td>26535.13</td>\n      <td>26545.18</td>\n      <td>8.04274</td>\n    </tr>\n    <tr>\n      <th>2023-09-16 11:00:00</th>\n      <td>26545.18</td>\n      <td>26545.19</td>\n      <td>26545.18</td>\n      <td>26545.19</td>\n      <td>6.24110</td>\n    </tr>\n    <tr>\n      <th>2023-09-16 11:01:00</th>\n      <td>26545.18</td>\n      <td>26545.19</td>\n      <td>26536.54</td>\n      <td>26536.55</td>\n      <td>11.08515</td>\n    </tr>\n    <tr>\n      <th>2023-09-16 11:02:00</th>\n      <td>26536.55</td>\n      <td>26536.55</td>\n      <td>26536.54</td>\n      <td>26536.55</td>\n      <td>2.23048</td>\n    </tr>\n  </tbody>\n</table>\n<p>372103 rows × 5 columns</p>\n</div>"
     },
     "execution_count": 7,
     "metadata": {},
     "output_type": "execute_result"
    }
   ],
   "source": [
    "df"
   ],
   "metadata": {
    "collapsed": false,
    "ExecuteTime": {
     "end_time": "2023-09-16T11:02:26.610724600Z",
     "start_time": "2023-09-16T11:02:26.569717600Z"
    }
   }
  },
  {
   "cell_type": "code",
   "execution_count": 12,
   "outputs": [
    {
     "data": {
      "text/plain": "Time\n2023-01-01    16541.77\n2023-01-02    16617.17\n2023-01-03    16672.78\n2023-01-04    16675.65\n2023-01-05    16850.36\n                ...   \n2023-09-12    25162.53\n2023-09-13    25840.10\n2023-09-14    26222.00\n2023-09-15    26522.73\n2023-09-16    26599.99\nFreq: D, Name: Open, Length: 259, dtype: float64"
     },
     "execution_count": 12,
     "metadata": {},
     "output_type": "execute_result"
    }
   ],
   "source": [
    "opens = df.resample(\"D\").first().Open\n",
    "opens"
   ],
   "metadata": {
    "collapsed": false,
    "ExecuteTime": {
     "end_time": "2023-09-16T13:05:23.787188500Z",
     "start_time": "2023-09-16T13:05:23.713462500Z"
    }
   }
  },
  {
   "cell_type": "code",
   "execution_count": 10,
   "outputs": [],
   "source": [
    "def getlevels(date,first=True):\n",
    "    if first:\n",
    "        return opens[date] * 0.998, opens[date] * 1.002\n",
    "    else:\n",
    "        return opens[date] * 0.996, opens[date] * 0.998"
   ],
   "metadata": {
    "collapsed": false,
    "ExecuteTime": {
     "end_time": "2023-09-16T13:04:37.908154900Z",
     "start_time": "2023-09-16T13:04:37.897619400Z"
    }
   }
  },
  {
   "cell_type": "code",
   "execution_count": 39,
   "outputs": [
    {
     "data": {
      "text/plain": "(16508.68646, 16574.85354)"
     },
     "execution_count": 39,
     "metadata": {},
     "output_type": "execute_result"
    }
   ],
   "source": [
    "getlevels('2023-01-01')"
   ],
   "metadata": {
    "collapsed": false,
    "ExecuteTime": {
     "end_time": "2023-09-17T09:00:29.857438500Z",
     "start_time": "2023-09-17T09:00:29.849521200Z"
    }
   }
  },
  {
   "cell_type": "code",
   "execution_count": 64,
   "outputs": [],
   "source": [
    "import datetime\n",
    "\n",
    "def slicedf(date):\n",
    "    return df[df.index.date == pd.to_datetime(date)]\n",
    "    # date_obj = datetime.datetime.strptime(date, '%Y-%m-%d').date()\n",
    "    # return df[df.index.date == date_obj]"
   ],
   "metadata": {
    "collapsed": false,
    "ExecuteTime": {
     "end_time": "2023-09-17T11:10:17.134838700Z",
     "start_time": "2023-09-17T11:10:17.105311100Z"
    }
   }
  },
  {
   "cell_type": "code",
   "execution_count": 43,
   "outputs": [
    {
     "data": {
      "text/plain": "                         Open      High       Low     Close     Volume\nTime                                                                  \n2023-01-01 00:00:00  16541.77  16544.76  16538.45  16543.67   83.08143\n2023-01-01 00:01:00  16543.04  16544.41  16538.48  16539.31   80.45300\n2023-01-01 00:02:00  16539.31  16541.17  16534.52  16536.43   62.90197\n2023-01-01 00:03:00  16536.43  16537.28  16531.00  16533.65  115.71894\n2023-01-01 00:04:00  16534.12  16536.08  16527.51  16535.38  144.45369\n...                       ...       ...       ...       ...        ...\n2023-01-01 23:55:00  16609.48  16615.09  16609.19  16613.60   70.85806\n2023-01-01 23:56:00  16613.20  16621.00  16612.15  16619.79   91.04320\n2023-01-01 23:57:00  16620.20  16621.44  16617.19  16617.20   74.52966\n2023-01-01 23:58:00  16617.20  16617.68  16613.60  16616.36   72.65990\n2023-01-01 23:59:00  16616.36  16620.20  16615.91  16616.75   61.61521\n\n[1440 rows x 5 columns]",
      "text/html": "<div>\n<style scoped>\n    .dataframe tbody tr th:only-of-type {\n        vertical-align: middle;\n    }\n\n    .dataframe tbody tr th {\n        vertical-align: top;\n    }\n\n    .dataframe thead th {\n        text-align: right;\n    }\n</style>\n<table border=\"1\" class=\"dataframe\">\n  <thead>\n    <tr style=\"text-align: right;\">\n      <th></th>\n      <th>Open</th>\n      <th>High</th>\n      <th>Low</th>\n      <th>Close</th>\n      <th>Volume</th>\n    </tr>\n    <tr>\n      <th>Time</th>\n      <th></th>\n      <th></th>\n      <th></th>\n      <th></th>\n      <th></th>\n    </tr>\n  </thead>\n  <tbody>\n    <tr>\n      <th>2023-01-01 00:00:00</th>\n      <td>16541.77</td>\n      <td>16544.76</td>\n      <td>16538.45</td>\n      <td>16543.67</td>\n      <td>83.08143</td>\n    </tr>\n    <tr>\n      <th>2023-01-01 00:01:00</th>\n      <td>16543.04</td>\n      <td>16544.41</td>\n      <td>16538.48</td>\n      <td>16539.31</td>\n      <td>80.45300</td>\n    </tr>\n    <tr>\n      <th>2023-01-01 00:02:00</th>\n      <td>16539.31</td>\n      <td>16541.17</td>\n      <td>16534.52</td>\n      <td>16536.43</td>\n      <td>62.90197</td>\n    </tr>\n    <tr>\n      <th>2023-01-01 00:03:00</th>\n      <td>16536.43</td>\n      <td>16537.28</td>\n      <td>16531.00</td>\n      <td>16533.65</td>\n      <td>115.71894</td>\n    </tr>\n    <tr>\n      <th>2023-01-01 00:04:00</th>\n      <td>16534.12</td>\n      <td>16536.08</td>\n      <td>16527.51</td>\n      <td>16535.38</td>\n      <td>144.45369</td>\n    </tr>\n    <tr>\n      <th>...</th>\n      <td>...</td>\n      <td>...</td>\n      <td>...</td>\n      <td>...</td>\n      <td>...</td>\n    </tr>\n    <tr>\n      <th>2023-01-01 23:55:00</th>\n      <td>16609.48</td>\n      <td>16615.09</td>\n      <td>16609.19</td>\n      <td>16613.60</td>\n      <td>70.85806</td>\n    </tr>\n    <tr>\n      <th>2023-01-01 23:56:00</th>\n      <td>16613.20</td>\n      <td>16621.00</td>\n      <td>16612.15</td>\n      <td>16619.79</td>\n      <td>91.04320</td>\n    </tr>\n    <tr>\n      <th>2023-01-01 23:57:00</th>\n      <td>16620.20</td>\n      <td>16621.44</td>\n      <td>16617.19</td>\n      <td>16617.20</td>\n      <td>74.52966</td>\n    </tr>\n    <tr>\n      <th>2023-01-01 23:58:00</th>\n      <td>16617.20</td>\n      <td>16617.68</td>\n      <td>16613.60</td>\n      <td>16616.36</td>\n      <td>72.65990</td>\n    </tr>\n    <tr>\n      <th>2023-01-01 23:59:00</th>\n      <td>16616.36</td>\n      <td>16620.20</td>\n      <td>16615.91</td>\n      <td>16616.75</td>\n      <td>61.61521</td>\n    </tr>\n  </tbody>\n</table>\n<p>1440 rows × 5 columns</p>\n</div>"
     },
     "execution_count": 43,
     "metadata": {},
     "output_type": "execute_result"
    }
   ],
   "source": [
    "df_t = slicedf(\"2023-01-01\")\n",
    "df_t"
   ],
   "metadata": {
    "collapsed": false,
    "ExecuteTime": {
     "end_time": "2023-09-17T09:01:11.754702900Z",
     "start_time": "2023-09-17T09:01:11.630094200Z"
    }
   }
  },
  {
   "cell_type": "code",
   "execution_count": 44,
   "outputs": [
    {
     "name": "stdout",
     "output_type": "stream",
     "text": [
      "2023-01-01 00:37:00\n",
      "buy\n",
      "2023-01-01 16:02:00\n",
      "sold\n"
     ]
    }
   ],
   "source": [
    "in_position = False\n",
    "\n",
    "for index,row in df_t.iterrows():\n",
    "    if not in_position:\n",
    "        levels = getlevels('2023-01-01')\n",
    "        if row.Low <= levels[0]:\n",
    "            print(index)\n",
    "            print('buy')\n",
    "            in_position = True\n",
    "    if in_position:\n",
    "        if row.High >= levels[1]:\n",
    "            print(index)\n",
    "            print('sold')\n",
    "            in_position = False"
   ],
   "metadata": {
    "collapsed": false,
    "ExecuteTime": {
     "end_time": "2023-09-17T09:01:17.710279300Z",
     "start_time": "2023-09-17T09:01:17.607795200Z"
    }
   }
  },
  {
   "cell_type": "code",
   "execution_count": 56,
   "outputs": [
    {
     "data": {
      "text/plain": "                         Open      High       Low     Close     Volume\nTime                                                                  \n2023-01-01 16:05:00  16563.20  16565.83  16562.00  16562.60   63.37417\n2023-01-01 16:06:00  16563.08  16571.46  16562.43  16567.42  136.10204\n2023-01-01 16:07:00  16567.88  16569.54  16565.87  16566.50   81.66886\n2023-01-01 16:08:00  16566.50  16569.99  16565.43  16569.30   47.16452\n2023-01-01 16:09:00  16569.08  16569.55  16566.07  16566.95   60.43350\n...                       ...       ...       ...       ...        ...\n2023-01-01 23:55:00  16609.48  16615.09  16609.19  16613.60   70.85806\n2023-01-01 23:56:00  16613.20  16621.00  16612.15  16619.79   91.04320\n2023-01-01 23:57:00  16620.20  16621.44  16617.19  16617.20   74.52966\n2023-01-01 23:58:00  16617.20  16617.68  16613.60  16616.36   72.65990\n2023-01-01 23:59:00  16616.36  16620.20  16615.91  16616.75   61.61521\n\n[475 rows x 5 columns]",
      "text/html": "<div>\n<style scoped>\n    .dataframe tbody tr th:only-of-type {\n        vertical-align: middle;\n    }\n\n    .dataframe tbody tr th {\n        vertical-align: top;\n    }\n\n    .dataframe thead th {\n        text-align: right;\n    }\n</style>\n<table border=\"1\" class=\"dataframe\">\n  <thead>\n    <tr style=\"text-align: right;\">\n      <th></th>\n      <th>Open</th>\n      <th>High</th>\n      <th>Low</th>\n      <th>Close</th>\n      <th>Volume</th>\n    </tr>\n    <tr>\n      <th>Time</th>\n      <th></th>\n      <th></th>\n      <th></th>\n      <th></th>\n      <th></th>\n    </tr>\n  </thead>\n  <tbody>\n    <tr>\n      <th>2023-01-01 16:05:00</th>\n      <td>16563.20</td>\n      <td>16565.83</td>\n      <td>16562.00</td>\n      <td>16562.60</td>\n      <td>63.37417</td>\n    </tr>\n    <tr>\n      <th>2023-01-01 16:06:00</th>\n      <td>16563.08</td>\n      <td>16571.46</td>\n      <td>16562.43</td>\n      <td>16567.42</td>\n      <td>136.10204</td>\n    </tr>\n    <tr>\n      <th>2023-01-01 16:07:00</th>\n      <td>16567.88</td>\n      <td>16569.54</td>\n      <td>16565.87</td>\n      <td>16566.50</td>\n      <td>81.66886</td>\n    </tr>\n    <tr>\n      <th>2023-01-01 16:08:00</th>\n      <td>16566.50</td>\n      <td>16569.99</td>\n      <td>16565.43</td>\n      <td>16569.30</td>\n      <td>47.16452</td>\n    </tr>\n    <tr>\n      <th>2023-01-01 16:09:00</th>\n      <td>16569.08</td>\n      <td>16569.55</td>\n      <td>16566.07</td>\n      <td>16566.95</td>\n      <td>60.43350</td>\n    </tr>\n    <tr>\n      <th>...</th>\n      <td>...</td>\n      <td>...</td>\n      <td>...</td>\n      <td>...</td>\n      <td>...</td>\n    </tr>\n    <tr>\n      <th>2023-01-01 23:55:00</th>\n      <td>16609.48</td>\n      <td>16615.09</td>\n      <td>16609.19</td>\n      <td>16613.60</td>\n      <td>70.85806</td>\n    </tr>\n    <tr>\n      <th>2023-01-01 23:56:00</th>\n      <td>16613.20</td>\n      <td>16621.00</td>\n      <td>16612.15</td>\n      <td>16619.79</td>\n      <td>91.04320</td>\n    </tr>\n    <tr>\n      <th>2023-01-01 23:57:00</th>\n      <td>16620.20</td>\n      <td>16621.44</td>\n      <td>16617.19</td>\n      <td>16617.20</td>\n      <td>74.52966</td>\n    </tr>\n    <tr>\n      <th>2023-01-01 23:58:00</th>\n      <td>16617.20</td>\n      <td>16617.68</td>\n      <td>16613.60</td>\n      <td>16616.36</td>\n      <td>72.65990</td>\n    </tr>\n    <tr>\n      <th>2023-01-01 23:59:00</th>\n      <td>16616.36</td>\n      <td>16620.20</td>\n      <td>16615.91</td>\n      <td>16616.75</td>\n      <td>61.61521</td>\n    </tr>\n  </tbody>\n</table>\n<p>475 rows × 5 columns</p>\n</div>"
     },
     "execution_count": 56,
     "metadata": {},
     "output_type": "execute_result"
    }
   ],
   "source": [
    "# desired_datetime = datetime.datetime('2023-01-01 16:00:00')\n",
    "# data_at_desired_datetime = df_t.loc[desired_datetime]\n",
    "\n",
    "desired_time2 = pd.Timestamp(\"2023-01-01 16:05:00\")\n",
    "\n",
    "df_t.loc[desired_time2:]"
   ],
   "metadata": {
    "collapsed": false,
    "ExecuteTime": {
     "end_time": "2023-09-17T09:27:28.189967500Z",
     "start_time": "2023-09-17T09:27:28.151941500Z"
    }
   }
  },
  {
   "cell_type": "code",
   "execution_count": 65,
   "outputs": [],
   "source": [
    "position_arr = [False, False]\n",
    "profits = []\n",
    "# date = \"2023-01-02\"\n",
    "# df_t = slicedf(date)\n",
    "\n",
    "for date in opens.index:\n",
    "    df_t = slicedf(date)\n",
    "    if not any(position_arr):\n",
    "        firstlevels = getlevels(date)\n",
    "        secondlevels = getlevels(date, first=False)\n",
    "    for index, row in df_t.iterrows():\n",
    "        if not position_arr[0]:\n",
    "            if row.Low <= firstlevels[0]:\n",
    "                print('buy', index)\n",
    "                position_arr[0] = True\n",
    "                buy_1 = firstlevels[0]\n",
    "        if position_arr[0] and not position_arr[1]:\n",
    "            if row.Low <= secondlevels[0]:\n",
    "                print(\"buy second\", index)\n",
    "                position_arr[1] = True\n",
    "                buy_2 = secondlevels[0]\n",
    "            if row.High >= firstlevels[1]:\n",
    "                print('sell', index)\n",
    "                position_arr[0] = False\n",
    "                profits.append((firstlevels[1] - buy_1)/buy_1)\n",
    "        if position_arr[1]:\n",
    "            if row.High >= secondlevels[1]:\n",
    "                print('sell second', index)\n",
    "                position_arr[1] = False\n",
    "                profits.append((secondlevels[1] - buy_2)/buy_2)"
   ],
   "metadata": {
    "collapsed": false,
    "ExecuteTime": {
     "end_time": "2023-09-17T11:12:02.213358Z",
     "start_time": "2023-09-17T11:10:21.053086700Z"
    }
   }
  }
 ],
 "metadata": {
  "kernelspec": {
   "display_name": "Python 3",
   "language": "python",
   "name": "python3"
  },
  "language_info": {
   "codemirror_mode": {
    "name": "ipython",
    "version": 2
   },
   "file_extension": ".py",
   "mimetype": "text/x-python",
   "name": "python",
   "nbconvert_exporter": "python",
   "pygments_lexer": "ipython2",
   "version": "2.7.6"
  }
 },
 "nbformat": 4,
 "nbformat_minor": 0
}
